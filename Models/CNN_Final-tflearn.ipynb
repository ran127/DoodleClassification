{
 "cells": [
  {
   "cell_type": "markdown",
   "metadata": {},
   "source": [
    "CNN Model final verson"
   ]
  },
  {
   "cell_type": "code",
   "execution_count": 1,
   "metadata": {},
   "outputs": [
    {
     "name": "stderr",
     "output_type": "stream",
     "text": [
      "Using TensorFlow backend.\n"
     ]
    }
   ],
   "source": [
    "import cv2\n",
    "import numpy as np\n",
    "import os\n",
    "import pandas as pd\n",
    "import matplotlib.pyplot as plt\n",
    "import tensorflow as tf\n",
    "import tflearn\n",
    "from sklearn.model_selection import GridSearchCV\n",
    "from keras.models import Sequential\n",
    "from keras.layers import Dense\n",
    "from keras.wrappers.scikit_learn import KerasClassifier\n",
    "from tflearn.layers.conv import conv_2d, max_pool_2d, avg_pool_2d\n",
    "from tflearn.layers.core import input_data, dropout, fully_connected\n",
    "from tflearn.layers.estimator import regression\n",
    "from tflearn.data_augmentation import ImageAugmentation\n",
    "\n",
    "TRAIN_DIR_PRE = '../datasets/train_images_denoised.npy'\n",
    "TRAIN_LABEL_DIR = '../datasets/train_labels.csv'\n",
    "TEST_DIR_PRE = '../datasets/test_images_denoised.npy'\n",
    "IMG_SIZE = 35\n",
    "MODEL_NAME = '3_layers'"
   ]
  },
  {
   "cell_type": "code",
   "execution_count": 2,
   "metadata": {},
   "outputs": [
    {
     "data": {
      "text/plain": [
       "LabelBinarizer(neg_label=0, pos_label=1, sparse_output=False)"
      ]
     },
     "execution_count": 2,
     "metadata": {},
     "output_type": "execute_result"
    }
   ],
   "source": [
    "#Name for categories\n",
    "cate = ['sink','pear','moustache','nose','skateboard','penguin'\n",
    "              ,'peanut','skull','panda','paintbrush','nail','apple',\n",
    "              'rifle','mug','sailboat','pineapple','spoon','rabbit',\n",
    "              'shovel','rollerskates','screwdriver','scorpion','rhinoceros'\n",
    "              ,'pool','octagon','pillow','parrot','squiggle','mouth',\n",
    "               'empty','pencil']\n",
    "categories = {0:'apple',1:'empty',2:'moustache', 3:'mouth', 4:'mug', 5:'nail', 6:'nose'\\\n",
    "              ,7:'octagon', 8:'paintbrush', 9:'panda', 10:'parrot',11:'peanut',\\\n",
    "              12:'pear', 13:'pencil', 14:'penguin',15:'pillow',16:'pineapple',17:'pool'\\\n",
    "              ,18:'rabbit', 19:'rhinoceros',20:'rifle',21:'rollerskates',22:'sailboat',\\\n",
    "              23:'scorpion',24:'screwdriver', 25:'shovel', 26:'sink', 27:'skateboard',\\\n",
    "              28:'skull',29:'spoon',30:'squiggle'}\n",
    "from sklearn import preprocessing\n",
    "#This will give a 1-of-k coding scheme with alphbat sequence\n",
    "lb = preprocessing.LabelBinarizer()\n",
    "lb.fit(cate)"
   ]
  },
  {
   "cell_type": "code",
   "execution_count": 3,
   "metadata": {},
   "outputs": [],
   "source": [
    "#Notice here preprocessed image as input\n",
    "train_raw = np.load(TRAIN_DIR_PRE, encoding = 'latin1')\n",
    "train_label = np.array(pd.read_csv(TRAIN_LABEL_DIR, delimiter=\",\"))\n",
    "final_test = np.load(TEST_DIR_PRE,encoding='latin1')\n",
    "\n",
    "train_label = train_label[:,1]\n",
    "train_data = []\n",
    "for i in range(len(train_label)):\n",
    "    encoded = lb.transform([train_label[i]])\n",
    "    train_data.append([np.array(train_raw[:,1][i]), encoded[0]])\n",
    "\n",
    "#Split train data into train, validation and test data\n",
    "import random\n",
    "#random.shuffle(train_data)\n",
    "train = train_data[:8000]\n",
    "valid = train_data[8000:9000]\n",
    "test = train_data[9000:]\n"
   ]
  },
  {
   "cell_type": "code",
   "execution_count": 4,
   "metadata": {},
   "outputs": [],
   "source": [
    "#reshaping data\n",
    "train_x = np.array([i[0] for i in train]).reshape(-1, IMG_SIZE, IMG_SIZE, 1)\n",
    "train_y = [i[1] for i in train]\n",
    "train_y = np.reshape(train_y,(-1,31))\n",
    "\n",
    "\n",
    "valid_x = np.array([i[0] for i in valid]).reshape(-1, IMG_SIZE, IMG_SIZE, 1)\n",
    "valid_y = np.array([i[1] for i in valid]).reshape(-1,31)\n",
    "\n",
    "test_x = np.array([i[0] for i in test]).reshape(-1, IMG_SIZE, IMG_SIZE, 1)\n",
    "test_y = np.array([i[1] for i in test]).reshape(-1,31)\n",
    "\n",
    "#the shape of preprocessed test set is (10000,2) idx 0: img, idx 1:id\n",
    "final_test = final_test[:,1]\n",
    "final_test_x = np.array([i for i in final_test]).reshape(-1,IMG_SIZE,IMG_SIZE,1)"
   ]
  },
  {
   "cell_type": "code",
   "execution_count": 30,
   "metadata": {},
   "outputs": [],
   "source": [
    "def create_model(dp_rate, fl_size, ln_rate, nb_fr):\n",
    "    tf.reset_default_graph()\n",
    "    img_aug = ImageAugmentation()\n",
    "    img_aug.add_random_flip_leftright()\n",
    "    img_aug.add_random_rotation(max_angle=30.0)\n",
    "\n",
    "    convent = input_data(shape = [None, IMG_SIZE, IMG_SIZE, 1],name = 'input',data_augmentation=img_aug)\n",
    "\n",
    "    convent = conv_2d(convent, nb_filter = nb_fr[0], filter_size = 2, activation = 'relu',padding='same',regularizer='L2')\n",
    "    convent = avg_pool_2d(convent, 2)\n",
    "\n",
    "    convent = conv_2d(convent, nb_filter = nb_fr[1], filter_size = fl_size, activation = 'relu',padding='same',regularizer='L2')\n",
    "    convent = avg_pool_2d(convent, 2)\n",
    "\n",
    "    convent = conv_2d(convent, nb_filter = nb_fr[2], filter_size = fl_size, activation = 'relu',padding='same',regularizer='L2')\n",
    "    convent = avg_pool_2d(convent, 2)\n",
    "\n",
    "    convent = fully_connected(convent, 1024, activation = 'relu')\n",
    "    convent = dropout(convent, dp_rate)\n",
    "    \n",
    "    convent = fully_connected(convent, 1024, activation = 'relu')\n",
    "    convent = dropout(convent, dp_rate)\n",
    "\n",
    "    convent = fully_connected(convent, 31, activation ='softmax')\n",
    "    convent = regression(convent, optimizer = 'Adam', learning_rate = ln_rate, loss='categorical_crossentropy', name = 'target')\n",
    "\n",
    "    model = tflearn.DNN(convent, tensorboard_dir = 'log')\n",
    "    return model"
   ]
  },
  {
   "cell_type": "code",
   "execution_count": 32,
   "metadata": {},
   "outputs": [
    {
     "name": "stdout",
     "output_type": "stream",
     "text": [
      "Training Step: 7499  | total loss: \u001b[1m\u001b[32m0.43023\u001b[0m\u001b[0m | time: 12.078s\n",
      "| Adam | epoch: 060 | loss: 0.43023 - acc: 0.8627 -- iter: 7936/8000\n",
      "Training Step: 7500  | total loss: \u001b[1m\u001b[32m0.44134\u001b[0m\u001b[0m | time: 13.190s\n",
      "| Adam | epoch: 060 | loss: 0.44134 - acc: 0.8577 | val_loss: 1.03904 - val_acc: 0.7490 -- iter: 8000/8000\n",
      "--\n"
     ]
    }
   ],
   "source": [
    "model= create_model(0.5, 3, 0.0005, [64,128,256,512])\n",
    "model.fit(train_x, train_y, n_epoch =60, validation_set = (valid_x,valid_y),\n",
    "              snapshot_step=200, show_metric=True)"
   ]
  },
  {
   "cell_type": "code",
   "execution_count": 79,
   "metadata": {},
   "outputs": [
    {
     "name": "stdout",
     "output_type": "stream",
     "text": [
      "INFO:tensorflow:/home/ubuntu/comp551/kaggle/classify-doodles/code/77+ is not in all_model_checkpoint_paths. Manually adding it.\n"
     ]
    }
   ],
   "source": [
    "model.save(MODEL_NAME)"
   ]
  },
  {
   "cell_type": "code",
   "execution_count": 21,
   "metadata": {},
   "outputs": [
    {
     "data": {
      "image/png": "[encoded data removed]",
      "text/plain": [
       "<Figure size 432x288 with 1 Axes>"
      ]
     },
     "metadata": {},
     "output_type": "display_data"
    }
   ],
   "source": [
    "#model= create_model(0.3, 3, 0.0005, [64,128,256,512])\n",
    "#epnum = []\n",
    "#acc = []\n",
    "#model.fit(train_x, train_y, n_epoch =1, validation_set = (valid_x,valid_y),\n",
    "                  #snapshot_step=200, show_metric=True)\n",
    "#epnum.append(1)\n",
    "#acc.append(model.evaluate(test_x, test_y))\n",
    "#for i in range(5):\n",
    "#    ep = 5*i    \n",
    "#    epnum.append(ep)\n",
    "#    model.fit(train_x, train_y, n_epoch =ep, validation_set = (valid_x,valid_y),\n",
    "#                  snapshot_step=200, show_metric=True)\n",
    "#    accnum = model.evaluate(test_x, test_y)\n",
    "#    acc.append(accnum)\n",
    "    \n",
    "epnum = [1, 6, 16, 21, 31,41, 51,61,81 ,101]\n",
    "acc = [0.3129999990463257, 0.5839999971389771, 0.6669999990463257,0.6960000014305114, 0.7060000028610229,\n",
    "       0.7349999995231629, 0.7339999980926514,0.747999997138977, 0.7520000019073486, 0.7469999980926514]\n",
    "import matplotlib.pyplot as plt\n",
    "plt.plot(epnum, acc, '-')\n",
    "plt.xlabel('# of epoch')\n",
    "plt.ylabel('test set accuracy')\n",
    "plt.title('Relationship between epoch number and test set accuracy')\n",
    "plt.show()"
   ]
  },
  {
   "cell_type": "code",
   "execution_count": 22,
   "metadata": {},
   "outputs": [
    {
     "data": {
      "image/png": "[encoded data removed]",
      "text/plain": [
       "<Figure size 576x576 with 25 Axes>"
      ]
     },
     "metadata": {},
     "output_type": "display_data"
    }
   ],
   "source": [
    "imgs = []\n",
    "parrot = []\n",
    "for num, data in enumerate(train_label):\n",
    "    if(data =='squiggle'):\n",
    "        img = train_data[num][0]\n",
    "        imgs.append(img)\n",
    "        parrot.append(train_data[num])\n",
    "w=10\n",
    "h=10\n",
    "columns =5\n",
    "rows = 5\n",
    "fig=plt.figure(figsize=(8, 8))\n",
    "for i in range(1, columns*rows +1):\n",
    "    img = imgs[i].reshape(IMG_SIZE,IMG_SIZE)\n",
    "    fig.add_subplot(rows, columns, i)\n",
    "    plt.imshow(img)\n",
    "plt.show()"
   ]
  },
  {
   "cell_type": "code",
   "execution_count": 25,
   "metadata": {},
   "outputs": [
    {
     "name": "stdout",
     "output_type": "stream",
     "text": [
      "              precision    recall  f1-score   support\n",
      "\n",
      "       apple       0.90      0.84      0.87        43\n",
      "       empty       0.70      0.85      0.77        33\n",
      "   moustache       0.69      0.80      0.74        44\n",
      "       mouth       0.78      0.91      0.84        57\n",
      "         mug       0.81      0.81      0.81        31\n",
      "        nail       0.89      0.69      0.78        45\n",
      "        nose       0.73      0.85      0.79        26\n",
      "     octagon       0.81      0.74      0.78        47\n",
      "  paintbrush       0.63      0.76      0.69        25\n",
      "       panda       0.72      0.57      0.63        23\n",
      "      parrot       0.54      0.64      0.58        11\n",
      "      peanut       0.64      0.67      0.65        21\n",
      "        pear       0.75      0.64      0.69        28\n",
      "      pencil       0.50      0.72      0.59        25\n",
      "     penguin       0.57      0.72      0.64        29\n",
      "      pillow       0.74      0.58      0.65        24\n",
      "   pineapple       0.77      0.85      0.81        47\n",
      "        pool       0.71      0.65      0.68        52\n",
      "      rabbit       0.67      0.72      0.70        43\n",
      "  rhinoceros       0.76      0.68      0.72        19\n",
      "       rifle       0.69      0.65      0.67        37\n",
      "rollerskates       0.78      0.90      0.84        31\n",
      "    sailboat       0.85      0.95      0.90        41\n",
      "    scorpion       0.77      0.69      0.73        35\n",
      " screwdriver       0.50      0.41      0.45        17\n",
      "      shovel       0.75      0.63      0.69        19\n",
      "        sink       0.76      0.57      0.65        28\n",
      "  skateboard       0.93      0.81      0.86        47\n",
      "       skull       0.89      0.86      0.88        37\n",
      "       spoon       0.75      0.64      0.69        14\n",
      "    squiggle       0.38      0.24      0.29        21\n",
      "\n",
      " avg / total       0.74      0.74      0.74      1000\n",
      "\n"
     ]
    }
   ],
   "source": [
    "from sklearn import datasets, svm, metrics\n",
    "pred = model.predict(test_x).argmax(axis = -1)\n",
    "true = test_y.argmax(axis = -1)\n",
    "from sklearn.metrics import classification_report\n",
    "names = ['apple','empty','moustache','mouth','mug','nail','nose','octagon','paintbrush','panda','parrot','peanut',\n",
    "         'pear','pencil','penguin','pillow','pineapple','pool','rabbit','rhinoceros','rifle','rollerskates','sailboat',\n",
    "         'scorpion','screwdriver','shovel','sink','skateboard','skull','spoon','squiggle']\n",
    "print(classification_report(true, pred, target_names=names))"
   ]
  },
  {
   "cell_type": "code",
   "execution_count": 28,
   "metadata": {},
   "outputs": [
    {
     "name": "stdout",
     "output_type": "stream",
     "text": [
      "This is the test set accuracy: 0.74\n"
     ]
    }
   ],
   "source": [
    "acc = 0\n",
    "wrong = []\n",
    "for num, data in enumerate(test):\n",
    "    img_num = data[1]\n",
    "    img_data = data[0]\n",
    "  \n",
    "    orig = img_data.reshape(IMG_SIZE, IMG_SIZE)\n",
    "    data = img_data.reshape(IMG_SIZE, IMG_SIZE, 1)\n",
    "  \n",
    "\n",
    "    model_out = model.predict([data])[0]  \n",
    "    prediction = model_out.argmax(axis=-1)\n",
    "  \n",
    "    true = img_num.argmax(axis=-1)\n",
    "    if(prediction == true): acc+=1\n",
    "    else: wrong.append([num, true, prediction])\n",
    "result = acc/(len(test))\n",
    "print('This is the test set accuracy: ' + str(result))"
   ]
  },
  {
   "cell_type": "code",
   "execution_count": null,
   "metadata": {},
   "outputs": [],
   "source": [
    "#Generate Results\n",
    "pred_test = model.predict(final_test_x[:3000]).argmax(axis=-1)\n",
    "pred_test_p2 = model.predict(final_test_x[3000:6000]).argmax(axis=-1)\n",
    "pred_test_p3 = model.predict(final_test_x[6000:]).argmax(axis=-1)\n",
    "pred_test = np.hstack([pred_test,pred_test_p2,pred_test_p3])\n",
    "import csv\n",
    "with open(\"../output/submit_n.csv\",\"w\") as f:\n",
    "    wt = csv.writer(f,delimiter=',')\n",
    "    wt.writerow(['Id','Category'])\n",
    "    for idx,i in enumerate(pred_test):\n",
    "        wt.writerow([str(idx),str(categories.get(i))])"
   ]
  }
 ],
 "metadata": {
  "kernelspec": {
   "display_name": "Environment (conda_tensorflow_p36)",
   "language": "python",
   "name": "conda_tensorflow_p36"
  },
  "language_info": {
   "codemirror_mode": {
    "name": "ipython",
    "version": 3
   },
   "file_extension": ".py",
   "mimetype": "text/x-python",
   "name": "python",
   "nbconvert_exporter": "python",
   "pygments_lexer": "ipython3",
   "version": "3.6.5"
  }
 },
 "nbformat": 4,
 "nbformat_minor": 2
}
