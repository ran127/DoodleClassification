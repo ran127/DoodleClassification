{
 "cells": [
  {
   "cell_type": "code",
   "execution_count": 1,
   "metadata": {},
   "outputs": [],
   "source": [
    "from sklearn.neighbors import KNeighborsClassifier\n",
    "import numpy as np\n",
    "import pandas as pd\n",
    "from sklearn import preprocessing"
   ]
  },
  {
   "cell_type": "code",
   "execution_count": 2,
   "metadata": {},
   "outputs": [],
   "source": [
    "TRAIN_LABEL_DIR = '../datasets/train_labels.csv'\n",
    "# TEST_DIR = '../datasets/test_images.npy'\n",
    "TRAIN_DIR_PRE = '../datasets/train_images_preprocessed.npy'\n",
    "TEST_DIR_PRE = '../datasets/test_images_preprocessed.npy'\n",
    "IMG_SIZE = 35"
   ]
  },
  {
   "cell_type": "code",
   "execution_count": 13,
   "metadata": {},
   "outputs": [],
   "source": [
    "train_raw = np.load(TRAIN_DIR_PRE, encoding = 'latin1')\n",
    "final_test = np.load(TEST_DIR_PRE,encoding='latin1')\n",
    "\n",
    "train_labels = np.array(pd.read_csv(TRAIN_LABEL_DIR, delimiter=\",\"))\n",
    "le = preprocessing.LabelEncoder()\n",
    "train_y = le.fit_transform(train_labels[:,1])\n",
    "\n",
    "train_x = train_raw[:,1]\n",
    "# train_data = []\n",
    "# for i in range(len(train_labels)):\n",
    "#     train_data.append([np.array(train_x[i]), encoded[0]])"
   ]
  },
  {
   "cell_type": "code",
   "execution_count": 22,
   "metadata": {},
   "outputs": [],
   "source": [
    "train = train_x[:8000]\n",
    "train_y = train_labels[:8000]\n",
    "valid = train_x[8000:9000]\n",
    "valid_y = train_labels[8000:9000]\n",
    "test = train_x[9000:]\n",
    "test_y = train_labels[9000:]\n",
    "# final_test = final_test[:,1]"
   ]
  },
  {
   "cell_type": "code",
   "execution_count": 15,
   "metadata": {},
   "outputs": [],
   "source": [
    "final_test = final_test[:,1]"
   ]
  },
  {
   "cell_type": "code",
   "execution_count": 33,
   "metadata": {},
   "outputs": [],
   "source": [
    "from sklearn.grid_search import GridSearchCV\n",
    "from sklearn.model_selection import PredefinedSplit"
   ]
  },
  {
   "cell_type": "code",
   "execution_count": 23,
   "metadata": {},
   "outputs": [
    {
     "data": {
      "text/plain": [
       "25"
      ]
     },
     "execution_count": 23,
     "metadata": {},
     "output_type": "execute_result"
    }
   ],
   "source": [
    "train_y[0]"
   ]
  },
  {
   "cell_type": "code",
   "execution_count": 39,
   "metadata": {
    "scrolled": true
   },
   "outputs": [
    {
     "data": {
      "text/plain": [
       "25"
      ]
     },
     "execution_count": 39,
     "metadata": {},
     "output_type": "execute_result"
    }
   ],
   "source": [
    "train_y[0]"
   ]
  },
  {
   "cell_type": "code",
   "execution_count": 46,
   "metadata": {},
   "outputs": [],
   "source": [
    "import pandas as pd"
   ]
  },
  {
   "cell_type": "code",
   "execution_count": 101,
   "metadata": {},
   "outputs": [],
   "source": [
    "def printknn(neigh, metric, train_acc,valid_acc, test_acc):\n",
    "    print(\" k = \"+str(neigh)+\", p = \"+ str(metric)+\", train_acc \"+str(train_acc)+\", valid_acc = \"+ str(valid_acc)+\", test_acc = \"+str(test_acc))"
   ]
  },
  {
   "cell_type": "code",
   "execution_count": 64,
   "metadata": {},
   "outputs": [
    {
     "name": "stdout",
     "output_type": "stream",
     "text": [
      " k = 1, metric = 1, valid_acc = 1, test_acc = 1\n"
     ]
    }
   ],
   "source": [
    "printknn(1,1,1,1)"
   ]
  },
  {
   "cell_type": "code",
   "execution_count": 102,
   "metadata": {},
   "outputs": [
    {
     "name": "stdout",
     "output_type": "stream",
     "text": [
      " k = 1, p = 1, train_acc 1.0, valid_acc = 0.404, test_acc = 0.384\n",
      " k = 1, p = 2, train_acc 1.0, valid_acc = 0.384, test_acc = 0.343\n",
      " k = 2, p = 1, train_acc 0.673625, valid_acc = 0.385, test_acc = 0.352\n",
      " k = 2, p = 2, train_acc 0.6665, valid_acc = 0.361, test_acc = 0.329\n",
      " k = 3, p = 1, train_acc 0.627875, valid_acc = 0.396, test_acc = 0.395\n",
      " k = 3, p = 2, train_acc 0.61125, valid_acc = 0.386, test_acc = 0.359\n",
      " k = 4, p = 1, train_acc 0.6035, valid_acc = 0.422, test_acc = 0.404\n",
      " k = 4, p = 2, train_acc 0.585625, valid_acc = 0.404, test_acc = 0.374\n",
      " k = 5, p = 1, train_acc 0.579625, valid_acc = 0.433, test_acc = 0.41\n",
      " k = 5, p = 2, train_acc 0.56475, valid_acc = 0.405, test_acc = 0.395\n",
      " k = 6, p = 1, train_acc 0.569125, valid_acc = 0.436, test_acc = 0.412\n",
      " k = 6, p = 2, train_acc 0.5485, valid_acc = 0.409, test_acc = 0.392\n",
      " k = 7, p = 1, train_acc 0.5545, valid_acc = 0.433, test_acc = 0.409\n",
      " k = 7, p = 2, train_acc 0.533125, valid_acc = 0.411, test_acc = 0.396\n",
      " k = 8, p = 1, train_acc 0.541875, valid_acc = 0.431, test_acc = 0.416\n",
      " k = 8, p = 2, train_acc 0.52275, valid_acc = 0.413, test_acc = 0.403\n",
      " k = 9, p = 1, train_acc 0.534, valid_acc = 0.435, test_acc = 0.419\n",
      " k = 9, p = 2, train_acc 0.512875, valid_acc = 0.409, test_acc = 0.401\n"
     ]
    }
   ],
   "source": [
    "res = pd.DataFrame(columns=['neighbors', 'p', 'val_acc', 'test_acc'])\n",
    "for i in range(1,10):\n",
    "    for p in range(1,3):\n",
    "        clf = KNeighborsClassifier(n_neighbors=i,p=p,algorithm='brute')\n",
    "        clf.fit(list(train),train_y)\n",
    "        acc_train = clf.score(list(train),train_y)\n",
    "        acc_test = clf.score(list(test),test_y)\n",
    "        acc_val = clf.score(list(valid),valid_y)\n",
    "        res = res.append({'neighbors':i,\n",
    "                          'p':p,\n",
    "                          'val_acc':acc_val,\n",
    "                          'test_acc':acc_test},ignore_index=True)\n",
    "        printknn(i,p,acc_train,acc_val,acc_test)"
   ]
  },
  {
   "cell_type": "code",
   "execution_count": 68,
   "metadata": {},
   "outputs": [],
   "source": [
    "import matplotlib.pyplot as plt"
   ]
  },
  {
   "cell_type": "code",
   "execution_count": 72,
   "metadata": {},
   "outputs": [
    {
     "data": {
      "text/html": [
       "<div>\n",
       "<style scoped>\n",
       "    .dataframe tbody tr th:only-of-type {\n",
       "        vertical-align: middle;\n",
       "    }\n",
       "\n",
       "    .dataframe tbody tr th {\n",
       "        vertical-align: top;\n",
       "    }\n",
       "\n",
       "    .dataframe thead th {\n",
       "        text-align: right;\n",
       "    }\n",
       "</style>\n",
       "<table border=\"1\" class=\"dataframe\">\n",
       "  <thead>\n",
       "    <tr style=\"text-align: right;\">\n",
       "      <th></th>\n",
       "      <th>neighbors</th>\n",
       "      <th>p</th>\n",
       "      <th>val_acc</th>\n",
       "      <th>test_acc</th>\n",
       "    </tr>\n",
       "  </thead>\n",
       "  <tbody>\n",
       "    <tr>\n",
       "      <th>0</th>\n",
       "      <td>1.0</td>\n",
       "      <td>1.0</td>\n",
       "      <td>0.404</td>\n",
       "      <td>0.384</td>\n",
       "    </tr>\n",
       "    <tr>\n",
       "      <th>2</th>\n",
       "      <td>2.0</td>\n",
       "      <td>1.0</td>\n",
       "      <td>0.385</td>\n",
       "      <td>0.352</td>\n",
       "    </tr>\n",
       "    <tr>\n",
       "      <th>4</th>\n",
       "      <td>3.0</td>\n",
       "      <td>1.0</td>\n",
       "      <td>0.396</td>\n",
       "      <td>0.395</td>\n",
       "    </tr>\n",
       "    <tr>\n",
       "      <th>6</th>\n",
       "      <td>4.0</td>\n",
       "      <td>1.0</td>\n",
       "      <td>0.422</td>\n",
       "      <td>0.404</td>\n",
       "    </tr>\n",
       "    <tr>\n",
       "      <th>8</th>\n",
       "      <td>5.0</td>\n",
       "      <td>1.0</td>\n",
       "      <td>0.433</td>\n",
       "      <td>0.410</td>\n",
       "    </tr>\n",
       "    <tr>\n",
       "      <th>10</th>\n",
       "      <td>6.0</td>\n",
       "      <td>1.0</td>\n",
       "      <td>0.436</td>\n",
       "      <td>0.412</td>\n",
       "    </tr>\n",
       "    <tr>\n",
       "      <th>12</th>\n",
       "      <td>7.0</td>\n",
       "      <td>1.0</td>\n",
       "      <td>0.433</td>\n",
       "      <td>0.409</td>\n",
       "    </tr>\n",
       "    <tr>\n",
       "      <th>14</th>\n",
       "      <td>8.0</td>\n",
       "      <td>1.0</td>\n",
       "      <td>0.431</td>\n",
       "      <td>0.416</td>\n",
       "    </tr>\n",
       "    <tr>\n",
       "      <th>16</th>\n",
       "      <td>9.0</td>\n",
       "      <td>1.0</td>\n",
       "      <td>0.435</td>\n",
       "      <td>0.419</td>\n",
       "    </tr>\n",
       "  </tbody>\n",
       "</table>\n",
       "</div>"
      ],
      "text/plain": [
       "    neighbors    p  val_acc  test_acc\n",
       "0         1.0  1.0    0.404     0.384\n",
       "2         2.0  1.0    0.385     0.352\n",
       "4         3.0  1.0    0.396     0.395\n",
       "6         4.0  1.0    0.422     0.404\n",
       "8         5.0  1.0    0.433     0.410\n",
       "10        6.0  1.0    0.436     0.412\n",
       "12        7.0  1.0    0.433     0.409\n",
       "14        8.0  1.0    0.431     0.416\n",
       "16        9.0  1.0    0.435     0.419"
      ]
     },
     "execution_count": 72,
     "metadata": {},
     "output_type": "execute_result"
    }
   ],
   "source": [
    "res[res['p'] == 1]"
   ]
  },
  {
   "cell_type": "code",
   "execution_count": 103,
   "metadata": {},
   "outputs": [],
   "source": [
    "x = np.arange(1,10)\n",
    "y1 = list(res[res['p'] == 1]['val_acc'])\n",
    "y2 = list(res[res['p'] == 1]['test_acc'])\n",
    "y3 = list(res[res['p'] == 2]['val_acc'])\n",
    "y4 = list(res[res['p'] == 2]['test_acc'])"
   ]
  },
  {
   "cell_type": "code",
   "execution_count": 106,
   "metadata": {
    "scrolled": true
   },
   "outputs": [
    {
     "data": {
      "text/plain": [
       "<matplotlib.legend.Legend at 0x7fccab06e358>"
      ]
     },
     "execution_count": 106,
     "metadata": {},
     "output_type": "execute_result"
    },
    {
     "data": {
      "image/png": "[encoded data removed]",
      "text/plain": [
       "<Figure size 432x288 with 1 Axes>"
      ]
     },
     "metadata": {},
     "output_type": "display_data"
    }
   ],
   "source": [
    "fig = plt.figure()\n",
    "ax = fig.add_subplot(111)\n",
    "\n",
    "line, = ax.plot(x, y1, lw=2,label='valid result')\n",
    "line2, = ax.plot(x, y2, lw=2,label='test result')\n",
    "min_v = min(y1)\n",
    "max_v = max(y1)\n",
    "min_v_test = min(y2)\n",
    "max_v_test = max(y2)\n",
    "\n",
    "for k,v in zip(x,y1):\n",
    "    if v == min_v:\n",
    "        ax.annotate('min'+str([k,v]), xy=(k,v),xytext=(k, v+0.02))\n",
    "    elif v == max_v:\n",
    "        ax.annotate('max'+str([k,v]), xy=(k,v),xytext=(k, v+0.02))\n",
    "        \n",
    "for k,v in zip(x,y2):\n",
    "    if v == min_v_test:\n",
    "        ax.annotate('min'+str([k,v]), xy=(k,v),xytext=(k, v+0.01))\n",
    "    elif v == max_v_test:\n",
    "        ax.annotate('max'+str([k,v]), xy=(k,v),xytext=(k, v-0.01))\n",
    "ax.set_ylim(0.3,0.5)\n",
    "ax.set_ylabel('valid accuracy')\n",
    "ax.set_xlabel('Number of neighbors')\n",
    "ax.set_title('p=1')\n",
    "\n",
    "ax.legend()"
   ]
  },
  {
   "cell_type": "code",
   "execution_count": 107,
   "metadata": {},
   "outputs": [
    {
     "data": {
      "text/plain": [
       "<matplotlib.legend.Legend at 0x7fccaafcb898>"
      ]
     },
     "execution_count": 107,
     "metadata": {},
     "output_type": "execute_result"
    },
    {
     "data": {
      "image/png": "[encoded data removed]",
      "text/plain": [
       "<Figure size 432x288 with 1 Axes>"
      ]
     },
     "metadata": {},
     "output_type": "display_data"
    }
   ],
   "source": [
    "fig = plt.figure()\n",
    "bx = fig.add_subplot(111)\n",
    "line, = bx.plot(x, y3, lw=2,label='valid result')\n",
    "line2, = bx.plot(x, y4, lw=2,label='test result')\n",
    "min_v = min(y3)\n",
    "max_v = max(y3)\n",
    "min_v_test = min(y4)\n",
    "max_v_test = max(y4)\n",
    "\n",
    "for k,v in zip(x,y3):\n",
    "    if v == min_v:\n",
    "        bx.annotate('min'+str([k,v]), xy=(k,v),xytext=(k, v+0.02))\n",
    "    elif v == max_v:\n",
    "        bx.annotate('max'+str([k,v]), xy=(k,v),xytext=(k, v+0.02))\n",
    "        \n",
    "for k,v in zip(x,y4):\n",
    "    if v == min_v_test:\n",
    "        bx.annotate('min'+str([k,v]), xy=(k,v),xytext=(k, v+0.01))\n",
    "    elif v == max_v_test:\n",
    "        bx.annotate('max'+str([k,v]), xy=(k,v),xytext=(k, v-0.01))\n",
    "bx.set_ylim(0.3,0.5)\n",
    "bx.set_ylabel('valid accuracy')\n",
    "bx.set_xlabel('Number of neighbors')\n",
    "bx.set_title('p=2')\n",
    "bx.legend()"
   ]
  },
  {
   "cell_type": "markdown",
   "metadata": {},
   "source": [
    "We focus on tuning number of neighbors and the distance calculation formular in the hyper-parameter tuning step. Model is validated on the 20% held out validation set. The best performance model considers only the nearest neighbor and using manhattan distance to calculate the distance."
   ]
  },
  {
   "cell_type": "code",
   "execution_count": 64,
   "metadata": {},
   "outputs": [],
   "source": [
    "test_acc = neigh.score(test_x,test_y)"
   ]
  },
  {
   "cell_type": "code",
   "execution_count": 65,
   "metadata": {},
   "outputs": [
    {
     "data": {
      "text/plain": [
       "0.398"
      ]
     },
     "execution_count": 65,
     "metadata": {},
     "output_type": "execute_result"
    }
   ],
   "source": [
    "test_acc"
   ]
  },
  {
   "cell_type": "code",
   "execution_count": null,
   "metadata": {},
   "outputs": [],
   "source": [
    "valid_acc = neigh.score(valid_x,valid_y)\n",
    "test_acc = neigh.score(test_x,test_y)"
   ]
  }
 ],
 "metadata": {
  "kernelspec": {
   "display_name": "Environment (conda_tensorflow_p36)",
   "language": "python",
   "name": "conda_tensorflow_p36"
  },
  "language_info": {
   "codemirror_mode": {
    "name": "ipython",
    "version": 3
   },
   "file_extension": ".py",
   "mimetype": "text/x-python",
   "name": "python",
   "nbconvert_exporter": "python",
   "pygments_lexer": "ipython3",
   "version": "3.6.5"
  }
 },
 "nbformat": 4,
 "nbformat_minor": 2
}
