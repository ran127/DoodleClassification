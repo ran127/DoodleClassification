{
 "cells": [
  {
   "cell_type": "code",
   "execution_count": 6,
   "metadata": {},
   "outputs": [],
   "source": [
    "from sklearn.model_selection import GridSearchCV\n",
    "from sklearn.svm import LinearSVC\n",
    "from sklearn.model_selection import PredefinedSplit\n",
    "from sklearn import preprocessing\n",
    "import numpy as np\n",
    "from pandas import read_csv"
   ]
  },
  {
   "cell_type": "code",
   "execution_count": 4,
   "metadata": {},
   "outputs": [],
   "source": [
    "TRAIN_DIR = '../datasets/train_images.npy'\n",
    "TRAIN_LABEL_DIR = '../datasets/train_labels.csv'\n",
    "TEST_DIR = '../datasets/test_images.npy'\n",
    "TRAIN_DIR_PRE = '../datasets/train_images_preprocessed.npy'\n",
    "TEST_DIR_PRE = '../datasets/test_images_preprocessed.npy'"
   ]
  },
  {
   "cell_type": "code",
   "execution_count": 7,
   "metadata": {},
   "outputs": [],
   "source": [
    "train_images = np.load(TRAIN_DIR_PRE, encoding=\"latin1\")\n",
    "test_images = np.load(TEST_DIR_PRE, encoding=\"latin1\")\n",
    "train_labels = np.array(read_csv(TRAIN_LABEL_DIR, delimiter=\",\"))\n",
    "le = preprocessing.LabelEncoder()\n",
    "train_labels = le.fit_transform(train_labels[:,1])"
   ]
  },
  {
   "cell_type": "code",
   "execution_count": 8,
   "metadata": {},
   "outputs": [],
   "source": [
    "def svm_linear_tuning(X, Y, train_size, valid_size, param,verbose=0):\n",
    "    \n",
    "    test_fold = np.hstack((-1*np.ones(train_size), np.zeros(valid_size)))\n",
    "    ps = PredefinedSplit(test_fold)\n",
    "    \n",
    "    grid_search_clf = GridSearchCV(LinearSVC(),param,cv = ps,verbose=verbose,scoring = 'f1_micro',return_train_score=True)\n",
    "    grid_search_clf.fit(X, Y)\n",
    "    return grid_search_clf"
   ]
  },
  {
   "cell_type": "code",
   "execution_count": 9,
   "metadata": {},
   "outputs": [],
   "source": [
    "train_valid_X = train_images[:9000,1]\n",
    "train_valid_Y = train_labels[:9000]\n",
    "\n",
    "# valid_X = train_images[8000:9000,1]\n",
    "# valid_Y = train_labels[8000:9000,1]\n",
    "\n",
    "test_X = train_images[9000:,1]\n",
    "test_Y = train_labels[9000:]\n"
   ]
  },
  {
   "cell_type": "code",
   "execution_count": 12,
   "metadata": {},
   "outputs": [
    {
     "name": "stdout",
     "output_type": "stream",
     "text": [
      "Fitting 1 folds for each of 1 candidates, totalling 1 fits\n",
      "[CV] C=1000 ..........................................................\n",
      "[CV] .............................. C=1000, score=0.245, total=  40.6s\n"
     ]
    },
    {
     "name": "stderr",
     "output_type": "stream",
     "text": [
      "[Parallel(n_jobs=1)]: Done   1 out of   1 | elapsed:   40.7s remaining:    0.0s\n",
      "[Parallel(n_jobs=1)]: Done   1 out of   1 | elapsed:   40.7s finished\n"
     ]
    }
   ],
   "source": [
    "svm_param = {'C' : [1000]}\n",
    "SVM = svm_linear_tuning(list(train_valid_X),train_valid_Y,8000,1000,svm_param,verbose=3)"
   ]
  },
  {
   "cell_type": "code",
   "execution_count": 52,
   "metadata": {},
   "outputs": [
    {
     "name": "stdout",
     "output_type": "stream",
     "text": [
      "Fitting 1 folds for each of 10 candidates, totalling 10 fits\n",
      "[CV] C=1e-07 .........................................................\n",
      "[CV] ............................. C=1e-07, score=0.419, total=   1.8s\n",
      "[CV] C=0.00011119999999999999 ........................................\n"
     ]
    },
    {
     "name": "stderr",
     "output_type": "stream",
     "text": [
      "[Parallel(n_jobs=1)]: Done   1 out of   1 | elapsed:    1.9s remaining:    0.0s\n"
     ]
    },
    {
     "name": "stdout",
     "output_type": "stream",
     "text": [
      "[CV] ............ C=0.00011119999999999999, score=0.337, total=  37.4s\n",
      "[CV] C=0.00022229999999999998 ........................................\n"
     ]
    },
    {
     "name": "stderr",
     "output_type": "stream",
     "text": [
      "[Parallel(n_jobs=1)]: Done   2 out of   2 | elapsed:   39.3s remaining:    0.0s\n"
     ]
    },
    {
     "name": "stdout",
     "output_type": "stream",
     "text": [
      "[CV] ............ C=0.00022229999999999998, score=0.314, total=  35.3s\n",
      "[CV] C=0.00033339999999999997 ........................................\n",
      "[CV] ............ C=0.00033339999999999997, score=0.312, total=  34.3s\n",
      "[CV] C=0.00044449999999999996 ........................................\n",
      "[CV] ............ C=0.00044449999999999996, score=0.299, total=  33.7s\n",
      "[CV] C=0.0005556 .....................................................\n",
      "[CV] ........................... C=0.0005556, score=0.3, total=  33.3s\n",
      "[CV] C=0.0006666999999999999 .........................................\n",
      "[CV] ............. C=0.0006666999999999999, score=0.303, total=  33.1s\n",
      "[CV] C=0.0007777999999999998 .........................................\n",
      "[CV] ............. C=0.0007777999999999998, score=0.301, total=  33.0s\n",
      "[CV] C=0.0008888999999999999 .........................................\n",
      "[CV] ............. C=0.0008888999999999999, score=0.298, total=  42.8s\n",
      "[CV] C=0.001 .........................................................\n",
      "[CV] ............................. C=0.001, score=0.301, total=  49.7s\n"
     ]
    },
    {
     "name": "stderr",
     "output_type": "stream",
     "text": [
      "[Parallel(n_jobs=1)]: Done  10 out of  10 | elapsed:  5.6min finished\n"
     ]
    }
   ],
   "source": [
    "svm_param = {'C' : np.linspace(1e-7,1e-3,10)}\n",
    "SVM2 =  svm_linear_tuning(list(train_valid_X),train_valid_Y,8000,1000,svm_param,verbose=3)"
   ]
  },
  {
   "cell_type": "code",
   "execution_count": 227,
   "metadata": {},
   "outputs": [
    {
     "name": "stdout",
     "output_type": "stream",
     "text": [
      "Fitting 1 folds for each of 10 candidates, totalling 10 fits\n",
      "[CV] C=1e-09 .........................................................\n",
      "[CV] ............................. C=1e-09, score=0.217, total=   2.9s\n",
      "[CV] C=11.111111112 ..................................................\n"
     ]
    },
    {
     "name": "stderr",
     "output_type": "stream",
     "text": [
      "[Parallel(n_jobs=1)]: Done   1 out of   1 | elapsed:    3.0s remaining:    0.0s\n"
     ]
    },
    {
     "name": "stdout",
     "output_type": "stream",
     "text": [
      "[CV] ...................... C=11.111111112, score=0.248, total=  33.4s\n",
      "[CV] C=22.222222223 ..................................................\n"
     ]
    },
    {
     "name": "stderr",
     "output_type": "stream",
     "text": [
      "[Parallel(n_jobs=1)]: Done   2 out of   2 | elapsed:   36.5s remaining:    0.0s\n"
     ]
    },
    {
     "name": "stdout",
     "output_type": "stream",
     "text": [
      "[CV] ...................... C=22.222222223, score=0.248, total=  33.5s\n",
      "[CV] C=33.333333333999995 ............................................\n",
      "[CV] ................ C=33.333333333999995, score=0.237, total=  33.5s\n",
      "[CV] C=44.444444444999995 ............................................\n",
      "[CV] ................ C=44.444444444999995, score=0.249, total=  33.3s\n",
      "[CV] C=55.555555555999995 ............................................\n",
      "[CV] ................ C=55.555555555999995, score=0.232, total=  33.4s\n",
      "[CV] C=66.666666667 ..................................................\n",
      "[CV] ...................... C=66.666666667, score=0.251, total=  33.2s\n",
      "[CV] C=77.777777778 ..................................................\n",
      "[CV] ...................... C=77.777777778, score=0.236, total=  33.6s\n",
      "[CV] C=88.888888889 ..................................................\n",
      "[CV] ...................... C=88.888888889, score=0.247, total=  33.4s\n",
      "[CV] C=100.0 .........................................................\n",
      "[CV] ............................. C=100.0, score=0.237, total=  33.6s\n"
     ]
    },
    {
     "name": "stderr",
     "output_type": "stream",
     "text": [
      "[Parallel(n_jobs=1)]: Done  10 out of  10 | elapsed:  5.1min finished\n"
     ]
    }
   ],
   "source": [
    "svm_param = {'C' : np.linspace(1e-9,100,10)}\n",
    "SVM3 =  svm_linear_tuning(list(train_valid_X),train_valid_Y,8000,1000,svm_param,verbose=3)"
   ]
  },
  {
   "cell_type": "code",
   "execution_count": 50,
   "metadata": {},
   "outputs": [],
   "source": [
    "with open('./model/svm_best_param.txt','w') as f:\n",
    "    f.write(str(SVM.best_estimator_))"
   ]
  },
  {
   "cell_type": "code",
   "execution_count": 59,
   "metadata": {},
   "outputs": [
    {
     "data": {
      "text/plain": [
       "[4.0, 0.258]"
      ]
     },
     "execution_count": 59,
     "metadata": {},
     "output_type": "execute_result"
    }
   ],
   "source": [
    "[SVM.best_estimator_.C,SVM.best_score_]"
   ]
  },
  {
   "cell_type": "code",
   "execution_count": 58,
   "metadata": {},
   "outputs": [
    {
     "data": {
      "text/plain": [
       "[1e-07, 0.419]"
      ]
     },
     "execution_count": 58,
     "metadata": {},
     "output_type": "execute_result"
    }
   ],
   "source": [
    "[SVM2.best_estimator_.C,SVM2.best_score_]"
   ]
  },
  {
   "cell_type": "code",
   "execution_count": 212,
   "metadata": {},
   "outputs": [
    {
     "name": "stdout",
     "output_type": "stream",
     "text": [
      "Hyperparameter tune on: {'C': array([1.000e-07, 1.112e-04, 2.223e-04, 3.334e-04, 4.445e-04, 5.556e-04,\n",
      "       6.667e-04, 7.778e-04, 8.889e-04, 1.000e-03])}\n",
      "Best hyperparameter C is: 1e-07\n",
      "Best peformance on validation set: 0.4517777777777778\n",
      "Best peformance on test set: 0.399\n"
     ]
    }
   ],
   "source": [
    "print(\"Hyperparameter tune on: \"+str(SVM2.param_grid))\n",
    "print(\"Best hyperparameter C is: \"+ str(SVM2.best_estimator_.C))\n",
    "print(\"Best peformance on validation set: \"+str(SVM2.score(list(train_valid_X),train_valid_Y))) \n",
    "print(\"Best peformance on test set: \"+str(SVM2.score(list(test_X),test_Y)))"
   ]
  },
  {
   "cell_type": "code",
   "execution_count": 235,
   "metadata": {
    "scrolled": true
   },
   "outputs": [
    {
     "name": "stdout",
     "output_type": "stream",
     "text": [
      "Hyperparameter tune on: {'C': array([1.00000000e-09, 4.44444445e-01, 8.88888890e-01, 1.33333333e+00,\n",
      "       1.77777778e+00, 2.22222222e+00, 2.66666667e+00, 3.11111111e+00,\n",
      "       3.55555556e+00, 4.00000000e+00])}\n",
      "Best hyperparameter C is: 4.0\n",
      "Best peformance on validation set: 0.6394444444444445\n",
      "Best peformance on test set: 0.216\n"
     ]
    }
   ],
   "source": [
    "print(\"Hyperparameter tune on: \"+str(SVM.param_grid))\n",
    "print(\"Best hyperparameter C is: \"+ str(SVM.best_estimator_.C))\n",
    "print(\"Best peformance on validation set: \"+str(SVM.score(list(train_valid_X),train_valid_Y))) # C = 4\n",
    "print(\"Best peformance on test set: \"+str(SVM.score(list(test_X),test_Y)))"
   ]
  },
  {
   "cell_type": "code",
   "execution_count": 236,
   "metadata": {},
   "outputs": [
    {
     "name": "stdout",
     "output_type": "stream",
     "text": [
      "Hyperparameter tune on: {'C': array([1.00000000e-09, 1.11111111e+01, 2.22222222e+01, 3.33333333e+01,\n",
      "       4.44444444e+01, 5.55555556e+01, 6.66666667e+01, 7.77777778e+01,\n",
      "       8.88888889e+01, 1.00000000e+02])}\n",
      "Best hyperparameter C is: 66.666666667\n",
      "Best peformance on validation set: 0.6348888888888888\n",
      "Best peformance on test set: 0.218\n"
     ]
    }
   ],
   "source": [
    "print(\"Hyperparameter tune on: \"+str(SVM3.param_grid))\n",
    "print(\"Best hyperparameter C is: \"+ str(SVM3.best_estimator_.C))\n",
    "print(\"Best peformance on validation set: \"+str(SVM3.score(list(train_valid_X),train_valid_Y))) # C = 4\n",
    "print(\"Best peformance on test set: \"+str(SVM3.score(list(test_X),test_Y)))"
   ]
  },
  {
   "cell_type": "code",
   "execution_count": 204,
   "metadata": {},
   "outputs": [
    {
     "data": {
      "text/plain": [
       "0.216"
      ]
     },
     "execution_count": 204,
     "metadata": {},
     "output_type": "execute_result"
    }
   ],
   "source": [
    "SVM.score(list(test_X),test_Y)"
   ]
  },
  {
   "cell_type": "code",
   "execution_count": 65,
   "metadata": {},
   "outputs": [
    {
     "data": {
      "text/plain": [
       "0.399"
      ]
     },
     "execution_count": 65,
     "metadata": {},
     "output_type": "execute_result"
    }
   ],
   "source": [
    "SVM2.score(list(test_X),test_Y)"
   ]
  },
  {
   "cell_type": "code",
   "execution_count": 75,
   "metadata": {},
   "outputs": [],
   "source": [
    "import matplotlib.pyplot as plt"
   ]
  },
  {
   "cell_type": "code",
   "execution_count": 237,
   "metadata": {},
   "outputs": [],
   "source": [
    "a1 = list(SVM.cv_results_.get('param_C').data)\n",
    "a2 = list(SVM.cv_results_.get('mean_test_score'))\n",
    "b1 = list(SVM2.cv_results_.get('param_C').data)\n",
    "b2 = list(SVM2.cv_results_.get('mean_test_score'))\n",
    "c1 = list(SVM3.cv_results_.get('param_C').data)\n",
    "c2 = list(SVM3.cv_results_.get('mean_test_score'))"
   ]
  },
  {
   "cell_type": "code",
   "execution_count": 234,
   "metadata": {},
   "outputs": [
    {
     "data": {
      "text/plain": [
       "Text(0.5,1,'SVM2')"
      ]
     },
     "execution_count": 234,
     "metadata": {},
     "output_type": "execute_result"
    },
    {
     "data": {
      "image/png": "[encoded data removed]",
      "text/plain": [
       "<Figure size 432x288 with 1 Axes>"
      ]
     },
     "metadata": {},
     "output_type": "display_data"
    }
   ],
   "source": [
    "fig = plt.figure()\n",
    "ax = fig.add_subplot(111)\n",
    "\n",
    "line, = ax.plot(a1, a2, lw=2)\n",
    "min_v = min(a2)\n",
    "max_v = max(a2)\n",
    "for k,v in zip(a1,a2):\n",
    "    if v == min_v:\n",
    "        ax.annotate('min'+str([k,v]), xy=(k,v),xytext=(k, v+0.02))\n",
    "    elif v == max_v:\n",
    "        ax.annotate('max'+str([k,v]), xy=(k,v),xytext=(k, v+0.02))\n",
    "ax.set_ylim(0.2,0.5)\n",
    "ax.set_ylabel('valid accuracy')\n",
    "ax.set_xlabel('C')\n",
    "ax.set_title('SVM2')"
   ]
  },
  {
   "cell_type": "code",
   "execution_count": 240,
   "metadata": {
    "scrolled": true
   },
   "outputs": [
    {
     "data": {
      "text/plain": [
       "Text(0.5,1,'SVM1')"
      ]
     },
     "execution_count": 240,
     "metadata": {},
     "output_type": "execute_result"
    },
    {
     "data": {
      "image/png": "[encoded data removed]",
      "text/plain": [
       "<Figure size 432x288 with 1 Axes>"
      ]
     },
     "metadata": {},
     "output_type": "display_data"
    }
   ],
   "source": [
    "fig = plt.figure()\n",
    "ax = fig.add_subplot(111)\n",
    "line, = ax.plot(b1, b2, lw=2)\n",
    "min_v = min(b2)\n",
    "max_v = max(b2)\n",
    "for k,v in zip(b1,b2):\n",
    "    if v == min_v:\n",
    "        ax.annotate('min'+str([k,v]), xy=(k,v),xytext=(k, v+0.02))\n",
    "    elif v == max_v:\n",
    "        ax.annotate('max'+str([k,v]), xy=(k,v),xytext=(k, v+0.02))\n",
    "ax.set_ylim(0.2,0.5)\n",
    "ax.set_ylabel('valid accuracy')\n",
    "ax.set_xlabel('C')\n",
    "ax.set_title('SVM1')"
   ]
  },
  {
   "cell_type": "code",
   "execution_count": 239,
   "metadata": {},
   "outputs": [
    {
     "data": {
      "text/plain": [
       "Text(0.5,1,'SVM3')"
      ]
     },
     "execution_count": 239,
     "metadata": {},
     "output_type": "execute_result"
    },
    {
     "data": {
      "image/png": "[encoded data removed]",
      "text/plain": [
       "<Figure size 432x288 with 1 Axes>"
      ]
     },
     "metadata": {},
     "output_type": "display_data"
    }
   ],
   "source": [
    "fig = plt.figure()\n",
    "ax = fig.add_subplot(111)\n",
    "\n",
    "line, = ax.plot(a1, a2, lw=2)\n",
    "min_v = min(c2)\n",
    "max_v = max(c2)\n",
    "for k,v in zip(c1,c2):\n",
    "    if v == min_v:\n",
    "        ax.annotate('min'+str([k,v]), xy=(k,v),xytext=(k, v+0.02))\n",
    "    elif v == max_v:\n",
    "        ax.annotate('max'+str([k,v]), xy=(k,v),xytext=(k, v+0.02))\n",
    "ax.set_ylim(0.2,0.5)\n",
    "ax.set_ylabel('valid accuracy')\n",
    "ax.set_xlabel('C')\n",
    "ax.set_title('SVM3')"
   ]
  },
  {
   "cell_type": "code",
   "execution_count": null,
   "metadata": {},
   "outputs": [],
   "source": []
  }
 ],
 "metadata": {
  "kernelspec": {
   "display_name": "Environment (conda_tensorflow_p36)",
   "language": "python",
   "name": "conda_tensorflow_p36"
  },
  "language_info": {
   "codemirror_mode": {
    "name": "ipython",
    "version": 3
   },
   "file_extension": ".py",
   "mimetype": "text/x-python",
   "name": "python",
   "nbconvert_exporter": "python",
   "pygments_lexer": "ipython3",
   "version": "3.6.5"
  }
 },
 "nbformat": 4,
 "nbformat_minor": 2
}
